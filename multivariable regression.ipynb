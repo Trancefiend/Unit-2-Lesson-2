{
 "cells": [
  {
   "cell_type": "code",
   "execution_count": 1,
   "metadata": {
    "collapsed": true
   },
   "outputs": [],
   "source": [
    "import pandas as pd\n",
    "from matplotlib import pyplot as plt\n",
    "import numpy as np\n",
    "import sklearn\n",
    "from sklearn import linear_model\n",
    "%matplotlib inline"
   ]
  },
  {
   "cell_type": "code",
   "execution_count": 2,
   "metadata": {},
   "outputs": [],
   "source": [
    "crime_raw = pd.read_csv('nyc_crimedata.csv')\n",
    "crime_raw.drop(crime_raw.index[-3:], inplace=True)\n",
    "crime_df = pd.DataFrame()"
   ]
  },
  {
   "cell_type": "code",
   "execution_count": 3,
   "metadata": {},
   "outputs": [],
   "source": [
    "crime_df['city'] = crime_raw['City']\n",
    "crime_df['population'] = crime_raw['Population'].str.replace(',', '')\n",
    "crime_df['population'] = crime_df['population'].fillna(0)\n",
    "crime_df['population'] = crime_df['population'].astype(int)\n",
    "crime_df['population_sqr'] = crime_df['population'].pow(2)"
   ]
  },
  {
   "cell_type": "code",
   "execution_count": 4,
   "metadata": {},
   "outputs": [],
   "source": [
    "crime_df['murder'] = crime_raw.iloc[:,3]\n",
    "crime_df['murder'] = crime_df['murder'].fillna(0)\n",
    "crime_df['robbery'] = crime_raw['Robbery'].fillna(0)\n",
    "crime_df['robbery'] = crime_df['robbery'].str.replace(',', '')\n",
    "crime_df['robbery'] = crime_df['robbery'].astype(int)"
   ]
  },
  {
   "cell_type": "code",
   "execution_count": 5,
   "metadata": {},
   "outputs": [],
   "source": [
    "crime_df['murder'] = np.where(crime_df['murder'] > 0, 0, 1)\n",
    "crime_df['robbery'] = np.where(crime_df['robbery'] > 0, 0, 1)"
   ]
  },
  {
   "cell_type": "code",
   "execution_count": 13,
   "metadata": {},
   "outputs": [
    {
     "data": {
      "text/plain": [
       "<matplotlib.collections.PathCollection at 0xc8d2208>"
      ]
     },
     "execution_count": 13,
     "metadata": {},
     "output_type": "execute_result"
    },
    {
     "data": {
      "image/png": "[encoded data removed]",
      "text/plain": [
       "<matplotlib.figure.Figure at 0xc8925f8>"
      ]
     },
     "metadata": {},
     "output_type": "display_data"
    }
   ],
   "source": [
    "plt.sca"
   ]
  },
  {
   "cell_type": "code",
   "execution_count": null,
   "metadata": {
    "collapsed": true
   },
   "outputs": [],
   "source": []
  }
 ],
 "metadata": {
  "kernelspec": {
   "display_name": "Python 3",
   "language": "python",
   "name": "python3"
  },
  "language_info": {
   "codemirror_mode": {
    "name": "ipython",
    "version": 3
   },
   "file_extension": ".py",
   "mimetype": "text/x-python",
   "name": "python",
   "nbconvert_exporter": "python",
   "pygments_lexer": "ipython3",
   "version": "3.6.3"
  }
 },
 "nbformat": 4,
 "nbformat_minor": 2
}
