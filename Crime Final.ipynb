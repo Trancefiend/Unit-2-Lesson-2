{
 "cells": [
  {
   "cell_type": "code",
   "execution_count": 1,
   "metadata": {},
   "outputs": [],
   "source": [
    "import pandas as pd\n",
    "import numpy as np\n",
    "import matplotlib.pyplot as plt\n",
    "import seaborn as sns\n",
    "import sklearn \n",
    "import math\n",
    "from matplotlib.mlab import PCA as mlabPCA\n",
    "from sklearn.preprocessing import StandardScaler\n",
    "from sklearn.decomposition import PCA\n",
    "from sklearn.preprocessing import LabelEncoder\n",
    "%matplotlib inline"
   ]
  },
  {
   "cell_type": "code",
   "execution_count": 2,
   "metadata": {},
   "outputs": [],
   "source": [
    "#import data and provide friendly column names\n",
    "crime_raw = pd.read_csv('Thinkful Files/nyc_crimedata.csv')\n",
    "crime_raw.rename(columns={'City': 'city',\n",
    "                         'Population': 'population',\n",
    "                         'Violent\\ncrime': 'violent_crime',\n",
    "                         'Murder and\\nnonnegligent\\nmanslaughter': 'murder',\n",
    "                         'Rape\\n(revised\\ndefinition)1': 'rape_legacy',\n",
    "                         'Rape\\n(legacy\\ndefinition)2': 'rape',\n",
    "                         'Robbery': 'robbery',\n",
    "                         'Aggravated\\nassault': 'aggravated_assault',\n",
    "                         'Property\\ncrime': 'property_crime',\n",
    "                         'Burglary': 'burglary',\n",
    "                         'Larceny-\\ntheft': 'larceny_theft',\n",
    "                         'Motor\\nvehicle\\ntheft': 'vehicle_theft',\n",
    "                         'Arson3': 'arson',\n",
    "                         'Unnamed: 13': 'unnamed'}, inplace=True)"
   ]
  },
  {
   "cell_type": "code",
   "execution_count": 3,
   "metadata": {},
   "outputs": [],
   "source": [
    "#drop columns with no data and final 3 rows, which were footnotes\n",
    "crime_raw.drop(['rape_legacy', 'unnamed'], axis=1, inplace=True)\n",
    "crime_raw.drop(crime_raw.index[-3:], inplace=True)\n",
    "crime_raw.drop(crime_raw.index[216], inplace=True)"
   ]
  },
  {
   "cell_type": "code",
   "execution_count": 4,
   "metadata": {},
   "outputs": [],
   "source": [
    "#remove commas from all columns with them, and change all numerics to floats\n",
    "cols = crime_raw.columns.drop('city')\n",
    "\n",
    "crime_raw['population'] = crime_raw['population'].str.replace(',', '')\n",
    "crime_raw['violent_crime'] = crime_raw['violent_crime'].str.replace(',', '')\n",
    "crime_raw['rape'] = crime_raw['rape'].str.replace(',', '')\n",
    "crime_raw['robbery'] = crime_raw['robbery'].str.replace(',', '')\n",
    "crime_raw['aggravated_assault'] = crime_raw['aggravated_assault'].str.replace(',', '')\n",
    "crime_raw['property_crime'] = crime_raw['property_crime'].str.replace(',', '')\n",
    "crime_raw['burglary'] = crime_raw['burglary'].str.replace(',', '')\n",
    "crime_raw['larceny_theft'] = crime_raw['larceny_theft'].str.replace(',', '')\n",
    "crime_raw['vehicle_theft'] = crime_raw['vehicle_theft'].str.replace(',', '')\n",
    "\n",
    "crime_raw[cols] = crime_raw[cols].astype(float)\n",
    "crime_raw['city'] = crime_raw['city'].dropna()\n",
    "crime_raw[cols] = crime_raw[cols].fillna(0)"
   ]
  },
  {
   "cell_type": "code",
   "execution_count": 5,
   "metadata": {},
   "outputs": [],
   "source": [
    "#create a new dataframe, and add desired factors\n",
    "crime_df = pd.DataFrame()\n",
    "crime_df['property_crime'] = crime_raw['property_crime']\n",
    "crime_df['population'] = crime_raw['population']\n",
    "crime_df['population_sqr'] = crime_df['population'].pow(2)\n",
    "crime_df['murder'] = crime_raw['murder']\n",
    "crime_df['robbery'] = crime_raw['robbery']\n",
    "#convert murder and robbery to categorical var, where any incident is marked 1.\n",
    "crime_df['murder_cat'] = np.where(crime_df['murder'] > 0, 1, 0)\n",
    "crime_df['robbery_cat'] = np.where(crime_df['robbery'] > 0, 1, 0)"
   ]
  },
  {
   "cell_type": "code",
   "execution_count": 6,
   "metadata": {},
   "outputs": [
    {
     "data": {
      "text/plain": [
       "<matplotlib.axes._subplots.AxesSubplot at 0xc5cbac8>"
      ]
     },
     "execution_count": 6,
     "metadata": {},
     "output_type": "execute_result"
    },
    {
     "data": {
      "image/png": "[encoded data removed]",
      "text/plain": [
       "<matplotlib.figure.Figure at 0xc5cb668>"
      ]
     },
     "metadata": {},
     "output_type": "display_data"
    }
   ],
   "source": [
    "sns.heatmap(crime_df.corr())"
   ]
  },
  {
   "cell_type": "code",
   "execution_count": null,
   "metadata": {
    "collapsed": true
   },
   "outputs": [],
   "source": []
  }
 ],
 "metadata": {
  "kernelspec": {
   "display_name": "Python 3",
   "language": "python",
   "name": "python3"
  },
  "language_info": {
   "codemirror_mode": {
    "name": "ipython",
    "version": 3
   },
   "file_extension": ".py",
   "mimetype": "text/x-python",
   "name": "python",
   "nbconvert_exporter": "python",
   "pygments_lexer": "ipython3",
   "version": "3.6.3"
  }
 },
 "nbformat": 4,
 "nbformat_minor": 2
}
